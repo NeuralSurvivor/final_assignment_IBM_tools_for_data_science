{
 "cells": [
  {
   "cell_type": "markdown",
   "id": "f4d7867c-6702-4a59-9ab5-1679dae45434",
   "metadata": {},
   "source": [
    "# Data Science Tools and Ecosystem"
   ]
  },
  {
   "cell_type": "markdown",
   "id": "4b166155-b402-4d2b-bc58-10e78e427316",
   "metadata": {},
   "source": [
    "In this notebook, Data Science Tools and Ecosystem are summarized."
   ]
  },
  {
   "cell_type": "markdown",
   "id": "9558b0d3-a207-4362-98ed-e568ced72900",
   "metadata": {},
   "source": [
    "Some of the popular languages that Data Scientists use are:\n",
    "1. Python\n",
    "2. R\n",
    "3. Julia\n",
    "4. SQL"
   ]
  },
  {
   "cell_type": "markdown",
   "id": "9dffc2dd-ef43-48c1-a46d-4341ed441160",
   "metadata": {},
   "source": [
    "Some of the commonly used libraries used by Data Scientists include:\n",
    "1. Sci-kit learn\n",
    "2. numpy\n",
    "3. pandas\n",
    "4. matplotlib"
   ]
  },
  {
   "cell_type": "markdown",
   "id": "ca3e4547-8c4b-434a-a13b-b231dee5ee3a",
   "metadata": {},
   "source": [
    "|Data Science Tools|\n",
    "|-------|\n",
    "|Jupyter|\n",
    "|RStudio|\n",
    "|Git|\n",
    "|Github|"
   ]
  },
  {
   "cell_type": "markdown",
   "id": "41f358a6-b55b-4176-923b-6d5e7f20b800",
   "metadata": {},
   "source": [
    "### Below are a few examples of evaluating arithmetic expressions in Python"
   ]
  },
  {
   "cell_type": "code",
   "execution_count": 1,
   "id": "fdf820f1-36c3-486c-be59-84d2084de8ec",
   "metadata": {
    "tags": []
   },
   "outputs": [
    {
     "data": {
      "text/plain": [
       "17"
      ]
     },
     "execution_count": 1,
     "metadata": {},
     "output_type": "execute_result"
    }
   ],
   "source": [
    "(3*4)+5"
   ]
  },
  {
   "cell_type": "markdown",
   "id": "8f04d3ca-f5b3-4df3-978c-b99cf1181b4e",
   "metadata": {},
   "source": [
    "converting minutes into hours"
   ]
  },
  {
   "cell_type": "code",
   "execution_count": 2,
   "id": "dc0c24f3-b3ec-48a1-9a5d-2fc245512025",
   "metadata": {
    "tags": []
   },
   "outputs": [
    {
     "data": {
      "text/plain": [
       "3.3333333333333335"
      ]
     },
     "execution_count": 2,
     "metadata": {},
     "output_type": "execute_result"
    }
   ],
   "source": [
    "minutes = 200\n",
    "# we coult convert minutes into hours by dividing it by 60\n",
    "hours = minutes/60\n",
    "hours"
   ]
  },
  {
   "cell_type": "markdown",
   "id": "04610158-e763-4e71-bd00-05a39469f402",
   "metadata": {},
   "source": [
    "**Objective :**\n",
    "- create a jupyter notebook\n",
    "- popular languages for data science\n",
    "- popular libraries for data science\n",
    "- tools for data science\n",
    "- doing basic arithmetic expression"
   ]
  },
  {
   "cell_type": "markdown",
   "id": "5df9515c-d5bd-4112-9107-7e0141b515c9",
   "metadata": {},
   "source": [
    "## Author\n",
    "Arvind Sharma"
   ]
  }
 ],
 "metadata": {
  "kernelspec": {
   "display_name": "Python 3 (ipykernel)",
   "language": "python",
   "name": "python3"
  },
  "language_info": {
   "codemirror_mode": {
    "name": "ipython",
    "version": 3
   },
   "file_extension": ".py",
   "mimetype": "text/x-python",
   "name": "python",
   "nbconvert_exporter": "python",
   "pygments_lexer": "ipython3",
   "version": "3.10.6"
  }
 },
 "nbformat": 4,
 "nbformat_minor": 5
}
